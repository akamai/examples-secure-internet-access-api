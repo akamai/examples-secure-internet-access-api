{
 "cells": [
  {
   "cell_type": "markdown",
   "id": "76e2c3ed-f53d-4bf8-b294-af3470cbeb16",
   "metadata": {
    "tags": []
   },
   "source": [
    "# Akamai SIA Analytics API Client\n",
    "\n",
    "## Overview\n",
    "\n",
    "In this [Jupyter](https://jupyter.org/) notebook we provide examples using the [Secure Mobi Analytics API's](https://developer.securemobi.net/reference/introduction) to generate reports\n",
    "for:\n",
    "- Device Activity summary for an account\n",
    "- Device Usage for an account\n",
    "- Device Status\n",
    "\n",
    "We use [Pandas](https://pandas.pydata.org/), [NumPy](https://numpy.org/) and [Matplotlib](https://matplotlib.org/) Python modules to manipulate and visualize the data returned by the API's.\n",
    "\n",
    "## Pre-requisites\n",
    "\n",
    "To access the API's you will need to obtain API credentials for your account, follow the [Quick Start](https://developer.securemobi.net/docs/quick-start) instructions to obtain\n",
    "API_SECRET and API_KEY for your account. You should **NEVER** hardcode these into your code - use environment variables, vault or a cloud based secrets manager.\n",
    "\n",
    "If you are using Tenant Level credentials you will need to specify the Account ID in the _Configuration Details_ section below. \n",
    "e.g. `ACCOUNT_ID = \"6bf4add5-a6db-457f-b4af-4f76f3b0dee4\"`\n",
    "\n",
    "In this notebook you are prompted to enter the API key and secret if you have not defined the following variables:\n",
    "- SECURE_MOBI_API_KEY\n",
    "- SECURE_MOBI_API_SECRET\n",
    "\n",
    "### Dependencies\n",
    "- Python >= 3.8\n",
    "- [Requests](https://docs.python-requests.org/) - HTTP requests\n",
    "- [pandas](https://pandas.pydata.org/) and [NumPy](https://numpy.org/)\n",
    "- [matplotlib](https://pypi.org/project/matplotlib/) - graphing library\n",
    "- [openpyxl](https://pypi.org/project/openpyxl/) - to generate Excel spreadsheets"
   ]
  },
  {
   "cell_type": "code",
   "execution_count": 1,
   "id": "3ca5062d-c0ee-44b1-8a6e-016503948e00",
   "metadata": {
    "tags": []
   },
   "outputs": [
    {
     "name": "stdout",
     "output_type": "stream",
     "text": [
      "Requirement already satisfied: pandas in ./lib/python3.9/site-packages (1.4.2)\n",
      "Requirement already satisfied: matplotlib in ./lib/python3.9/site-packages (3.4.3)\n",
      "Requirement already satisfied: requests in ./lib/python3.9/site-packages (2.28.1)\n",
      "Requirement already satisfied: openpyxl in ./lib/python3.9/site-packages (3.0.9)\n",
      "Requirement already satisfied: pytz>=2020.1 in ./lib/python3.9/site-packages (from pandas) (2022.2.1)\n",
      "Requirement already satisfied: numpy>=1.18.5 in ./lib/python3.9/site-packages (from pandas) (1.22.3)\n",
      "Requirement already satisfied: python-dateutil>=2.8.1 in ./lib/python3.9/site-packages (from pandas) (2.8.2)\n",
      "Requirement already satisfied: cycler>=0.10 in ./lib/python3.9/site-packages (from matplotlib) (0.10.0)\n",
      "Requirement already satisfied: pillow>=6.2.0 in ./lib/python3.9/site-packages (from matplotlib) (8.3.1)\n",
      "Requirement already satisfied: pyparsing>=2.2.1 in ./lib/python3.9/site-packages (from matplotlib) (3.0.9)\n",
      "Requirement already satisfied: kiwisolver>=1.0.1 in ./lib/python3.9/site-packages (from matplotlib) (1.3.2)\n",
      "Requirement already satisfied: certifi>=2017.4.17 in ./lib/python3.9/site-packages (from requests) (2022.6.15)\n",
      "Requirement already satisfied: urllib3<1.27,>=1.21.1 in ./lib/python3.9/site-packages (from requests) (1.26.12)\n",
      "Requirement already satisfied: charset-normalizer<3,>=2 in ./lib/python3.9/site-packages (from requests) (2.1.1)\n",
      "Requirement already satisfied: idna<4,>=2.5 in ./lib/python3.9/site-packages (from requests) (3.3)\n",
      "Requirement already satisfied: et-xmlfile in ./lib/python3.9/site-packages (from openpyxl) (1.1.0)\n",
      "Requirement already satisfied: six in ./lib/python3.9/site-packages (from cycler>=0.10->matplotlib) (1.16.0)\n"
     ]
    }
   ],
   "source": [
    "import sys\n",
    "!{sys.executable} -m pip install pandas matplotlib requests openpyxl"
   ]
  },
  {
   "cell_type": "code",
   "execution_count": 2,
   "id": "8c41909c-195d-4c80-ae97-ee51ee82b7e0",
   "metadata": {},
   "outputs": [],
   "source": [
    "from typing import Dict, Tuple, Union, List, Any, Generator\n",
    "from datetime import datetime, timedelta, timezone\n",
    "from collections import Counter\n",
    "import json\n",
    "import os\n",
    "from itertools import chain\n",
    "import pandas as pd\n",
    "import numpy as np\n",
    "import base64\n",
    "import time\n",
    "import pprint\n",
    "import logging\n",
    "import getpass\n",
    "from dateutil.relativedelta import relativedelta\n"
   ]
  },
  {
   "cell_type": "markdown",
   "id": "e3f70149-6a67-439d-8f2a-fa082f04150d",
   "metadata": {},
   "source": [
    "# matplotlib\n",
    "\n",
    "Import [matplotlib](https://matplotlib.org/devdocs/index.html) and set for inline display of charts"
   ]
  },
  {
   "cell_type": "code",
   "execution_count": 3,
   "id": "2e72d8fc-5f0a-40cb-9121-bff0a680a647",
   "metadata": {},
   "outputs": [],
   "source": [
    "%matplotlib inline\n",
    "import matplotlib.pyplot as plt\n",
    "from matplotlib.ticker import EngFormatter\n",
    "import matplotlib.dates as mdates\n"
   ]
  },
  {
   "cell_type": "markdown",
   "id": "73d33a9d-a974-455c-8fcd-c88d59f80340",
   "metadata": {},
   "source": [
    "## Python requests library\n",
    "Using Python `requests` library to access the API"
   ]
  },
  {
   "cell_type": "code",
   "execution_count": 4,
   "id": "c09f8a7b-485f-48c2-8711-189f08eb5180",
   "metadata": {},
   "outputs": [],
   "source": [
    "import requests\n",
    "from requests.auth import AuthBase\n",
    "from requests.adapters import HTTPAdapter\n",
    "from requests.packages.urllib3.util.retry import Retry\n",
    "\n",
    "from concurrent.futures import ThreadPoolExecutor\n"
   ]
  },
  {
   "cell_type": "markdown",
   "id": "6b3b9ee6-1ecd-49df-83c5-bfadbcec90d3",
   "metadata": {
    "tags": []
   },
   "source": [
    "### HTTP Requests settings\n",
    "\n",
    "Create a HTTP _Session_ object and attach an adapter to manage retries.\n",
    "\n",
    "To avoid being throttled (HTTP 429) we set a sensible backoff retry strategy for requests. Backoff exponentially starting with 1 second"
   ]
  },
  {
   "cell_type": "code",
   "execution_count": 5,
   "id": "6b4b2429-6dd2-42eb-ac59-cb7b03c91cbf",
   "metadata": {},
   "outputs": [],
   "source": [
    "retry_strategy = Retry(\n",
    "    total=3,\n",
    "    backoff_factor = 2,\n",
    "    status_forcelist=[429],\n",
    "    allowed_methods=[\"HEAD\", \"GET\", \"OPTIONS\", \"POST\"]\n",
    ")\n",
    "adapter = HTTPAdapter(max_retries=retry_strategy)\n",
    "http = requests.Session()\n",
    "http.mount(\"https://\", adapter)\n",
    "http.mount(\"http://\", adapter)\n"
   ]
  },
  {
   "cell_type": "markdown",
   "id": "d4b95ccb-a3c1-4af1-9169-028ae1fec2b9",
   "metadata": {},
   "source": [
    "## Logging configuration\n",
    "\n",
    "Set the log level for the root logger, specify urllib3 log level separately as we don't want to see the detailed urllib3 HTTP logging."
   ]
  },
  {
   "cell_type": "code",
   "execution_count": 6,
   "id": "9babf864-d25a-42af-a6b3-0481193aa111",
   "metadata": {},
   "outputs": [],
   "source": [
    "from http.client import HTTPConnection\n",
    "HTTPConnection.debuglevel = 0\n",
    "\n",
    "logging.basicConfig() # you need to initialize logging, otherwise you will not see anything from requests\n",
    "logger = logging.getLogger() # Root logger\n",
    "logger.setLevel(logging.INFO)\n",
    "requests_log = logging.getLogger(\"urllib3\")\n",
    "requests_log.setLevel(logging.INFO)\n",
    "requests_log.propagate = True"
   ]
  },
  {
   "cell_type": "markdown",
   "id": "635c45d3-90a5-4fff-a890-e048ab192e17",
   "metadata": {},
   "source": [
    "## Configuration Details\n",
    "\n",
    "Set the API endpoint URL and configure API credentials.\n",
    "\n",
    "For credentials we try environment variables first, otherwise fallback to prompting."
   ]
  },
  {
   "cell_type": "code",
   "execution_count": 7,
   "id": "984a0e0d-0fea-4482-83a3-357131926ee6",
   "metadata": {},
   "outputs": [
    {
     "name": "stdin",
     "output_type": "stream",
     "text": [
      "Enter API Key ····································\n",
      "Enter API Secret ············································\n"
     ]
    }
   ],
   "source": [
    "URL = \"https://api.securemobi.net/v2\"\n",
    "\n",
    "ACCOUNT_ID = None # ID defaults to the account associated with the account level credentials\n",
    "\n",
    "API_KEY = os.getenv('SECURE_MOBI_API_KEY')\n",
    "API_SECRET = os.getenv('SECURE_MOBI_API_SECRET')\n",
    "\n",
    "if API_KEY is None:\n",
    "    API_KEY = getpass.getpass('Enter API Key')\n",
    "    API_SECRET = getpass.getpass('Enter API Secret')\n",
    "    "
   ]
  },
  {
   "cell_type": "markdown",
   "id": "63316d46-29d0-4b8a-ad1c-6cea9f546b3f",
   "metadata": {},
   "source": [
    "# Authentication\n",
    "\n",
    "The API uses OAuth2 to grant a bearer token. Tokens are issued with a limited lifetime, the code belows fetches, caches and manages the token expiry time.\n",
    "The Bearer token is fetched using a custom authenticator.\n",
    "\n",
    "## Custom authenticator\n",
    "\n",
    "The AkamaiAuth class below implements the `requests` `AuthBase` class to manage the API Bearer Token, refreshing the token when required.\n",
    "Attach the authenticator class to http session.\n",
    "\n",
    "**NOTE**: Python Requests does have an OAuth2 helper - but for illustration purposes we provide our own custom authenticator."
   ]
  },
  {
   "cell_type": "code",
   "execution_count": 8,
   "id": "200fac8f-a824-4a90-b0dc-14a389a3b1fb",
   "metadata": {},
   "outputs": [],
   "source": [
    "class AkamaiAuth(AuthBase):\n",
    "    \"\"\"Attaches Authentication to the given Request object.\"\"\"\n",
    "    def __init__(self, username, password) -> None:\n",
    "        self.basic_auth = basic_auth = base64.b64encode(f\"{username}:{password}\".encode('ASCII')).decode('ASCII')\n",
    "        self.last_auth = None\n",
    "        self.token_expires = 0\n",
    "\n",
    "    def __call__(self, r) -> str :\n",
    "        # check first to see if we already have a bearer token and that it has not expired\n",
    "        epoch_now = datetime.now(timezone.utc).timestamp()\n",
    "        if self.last_auth is None or (epoch_now + 60) >= self.token_expires: # Add 60 seconds margin\n",
    "            # Get a new bearer token\n",
    "            headers = { \"Accept\":\"application/json\", \"Content-Type\":\"application/x-www-form-urlencoded\", \"Authorization\": f\"Basic {self.basic_auth}\"}\n",
    "            payload = { \"grant_type\": \"client_credentials\"}\n",
    "            resp = requests.post(f\"{URL}/oauth2/token\", data=payload, headers=headers)\n",
    "            if resp.status_code != 200:\n",
    "                raise Exception(f\"Authentication error getting bearer token: {resp.status_code}:{resp.reason}\")\n",
    "            self.last_auth = resp.json()\n",
    "            self.token_expires = epoch_now + self.last_auth['expires_in']\n",
    "        r.headers['Authorization'] = f'Bearer {self.last_auth[\"access_token\"]}'\n",
    "        return r\n",
    "    \n",
    "# Bind the token to our http Session\n",
    "http.auth = AkamaiAuth(API_KEY, API_SECRET)"
   ]
  },
  {
   "cell_type": "code",
   "execution_count": 9,
   "id": "79c26c41-928f-47b7-aee7-695fbb5fd0ee",
   "metadata": {},
   "outputs": [],
   "source": [
    "ACCOUNT_ID_HTTP_HEADER_NAME = \"X-Asavie-Account-Id\""
   ]
  },
  {
   "cell_type": "markdown",
   "id": "098f9f7c-1669-49eb-a007-07295709644f",
   "metadata": {},
   "source": [
    "# API methods\n",
    "The section below provides a set of methods to access the API's\n",
    "\n",
    "## Util methods"
   ]
  },
  {
   "cell_type": "code",
   "execution_count": 10,
   "id": "811493a8-5663-4f65-b602-82f3c99b36e9",
   "metadata": {},
   "outputs": [],
   "source": [
    "class IllegalArgumentError(ValueError):\n",
    "    pass\n",
    "\n",
    "def _api_request(method:str, path:str, params:dict, headers:dict, tenant_id:str, json=None, debug=False) -> Generator[dict, None, None]:\n",
    "    \"\"\" Generic API request usings the http session with the OAuth Authentication bound. API returns two types of responses\n",
    "    Collections containing top level keys items and continuation_token or simple responses as JSON array.\n",
    "    \n",
    "    Returns: A generator as the collections can be paged.\"\"\"\n",
    "    \n",
    "    method = method.upper()\n",
    "    if method not in (\"GET\", \"POST\"):\n",
    "        raise NotImplementedError(f\"HTTP method {method} not supported\")\n",
    "    if tenant_id is not None:\n",
    "        headers['X-Asavie-Tenant-Id'] = tenant_id\n",
    "\n",
    "    more_data = True\n",
    "    while more_data:\n",
    "        resp = http.request(method, f\"{URL}/{path}\", headers=headers, params=params, json=json)\n",
    "        if resp.status_code != 200:\n",
    "            raise Exception(f\"API Request Error: {resp.status_code} / {resp.reason} {resp.text}\")\n",
    "        if debug:\n",
    "            print(resp.text)\n",
    "        data = resp.json()\n",
    "        continuation_token = data.get('continuation_token', None)\n",
    "        \n",
    "        # Responses are either collections (have items and continuation tokens) or non collections\n",
    "        if 'items' not in data.keys():\n",
    "            yield data\n",
    "            return # Not a collection so generator is complete\n",
    "        \n",
    "        items = data.get('items', [])\n",
    "        if len(items) == 0:\n",
    "            return\n",
    "        if not continuation_token:\n",
    "            more_data = False\n",
    "        else:\n",
    "            params['continuation_token'] = continuation_token\n",
    "        yield items\n",
    "\n",
    "        \n",
    "def yesterday_utc() -> datetime:\n",
    "    \"\"\" Return yesterday datetime with time parts set to zero, i.e. midnight yesterday\"\"\"\n",
    "    now = datetime.now(timezone.utc)\n",
    "    # zero the time portion \n",
    "    return (now.replace(hour=0,minute=0,second=0,microsecond=0) - timedelta(days=1))\n",
    "    \n",
    "        \n",
    "def start_of_day_utc() -> datetime:\n",
    "    \"\"\" Return datetime for start of today. \"\"\"\n",
    "    now = datetime.now(timezone.utc)\n",
    "    # zero the time portion, even though backend does this. \n",
    "    return now.replace(hour=0,minute=0,second=0,microsecond=0)\n",
    "    \n",
    "        \n",
    "def get_date_range(num_periods:int, agg_period:str, end_time:datetime) -> Dict[str,str]:\n",
    "    \"\"\" Construct and return a dictionary with the date range object. \"\"\"\n",
    "    if end_time is None:\n",
    "        # default to yesterday if the end_time is not specified\n",
    "        end_time = yesterday_utc()\n",
    "    else:\n",
    "        end_time = end_time.replace(hour=0,minute=0,second=0,microsecond=0).astimezone(timezone.utc)\n",
    "        if (end_time > yesterday_utc()):\n",
    "            raise Exception(\"End time cannot be today or in the future\")\n",
    "    if agg_period == \"day\": # Note that to_date is inclusive\n",
    "        delta = timedelta(days=num_periods - 1)\n",
    "    elif agg_period == \"week\":\n",
    "        delta = timedelta(weeks=num_periods)\n",
    "    elif agg_period == \"month\":\n",
    "        delta = relativedelta(months=num_periods)\n",
    "    else:\n",
    "        raise IllegalArgumentError(f\"Aggregate period {agg_period} not valid\")\n",
    "        \n",
    "    start_time = end_time - delta\n",
    "    return {\n",
    "        \"from_date\": start_time.isoformat(),\n",
    "        \"to_date\": end_time.isoformat(),\n",
    "        \"aggregated_by\": agg_period\n",
    "    }\n",
    "\n",
    "ENG_FORMATTER = EngFormatter(unit='B', places=1)\n",
    "\n",
    "\n",
    "DATE_RANGES = (\n",
    "    \"last_3_days\",\n",
    "    \"last_7_days\",\n",
    "    \"last_30_days\",\n",
    "    \"current_quote_cycle_month\",\n",
    "    \"day\",\n",
    "    \"month\"\n",
    ")\n",
    "\n",
    "BEARERS = (\n",
    "    \"ethernet/wifi\",\n",
    "    \"cellular\"\n",
    ")\n",
    "    \n",
    "    \n",
    "def get_interval_range(date_range:str, start_date:datetime=None) -> Dict:\n",
    "    if date_range not in DATE_RANGES:\n",
    "        raise IllegalArgumentError(f\"Invalid Date range: {date_range}\")\n",
    "    if date_range in (\"day\", \"month\") and start_date is None:\n",
    "        raise IllegalArgumentError(\"start date must be specified when range is month or day\")\n",
    "    body = { \"interval\": date_range }\n",
    "    if start_date:\n",
    "        body[\"date\"] = start_date\n",
    "    return body\n",
    "        \n",
    "                    "
   ]
  },
  {
   "cell_type": "markdown",
   "id": "02169279-289f-4c61-b69b-d29fdfcff8aa",
   "metadata": {},
   "source": [
    "## Account Level methods"
   ]
  },
  {
   "cell_type": "code",
   "execution_count": 11,
   "id": "b8bd108a-446a-4fa3-9de2-ecd459e0b077",
   "metadata": {},
   "outputs": [],
   "source": [
    "def get_account_details(account_id:str=None) -> Generator[dict, None, None]:\n",
    "    \"\"\" Docs: https://developer.securemobi.net/reference/getaccount-1\n",
    "    Retrieve the Account details and return a Dict.\n",
    "    \n",
    "    Note if you are using Account level credentials the account ID defaults to\n",
    "    the API_KEY account.\n",
    "    \"\"\"\n",
    "    path = \"account\"\n",
    "    params = {}\n",
    "    headers = {}\n",
    "    if account_id is not None:\n",
    "        headers[ACCOUNT_ID_HTTP_HEADER_NAME] = account_id\n",
    "    return next(_api_request(\"GET\", path, params, headers, tenant_id=None, debug=False))    \n",
    "\n",
    "\n",
    "def get_dns_blocks_top_slds_by_account(account_id:str, interval:str, bearer:str=None, limit:int=50) -> Generator[dict, None, None]:\n",
    "    \"\"\" Docs: https://developer.securemobi.net/reference/getdnsblockstopsecondleveldomains\n",
    "    Get DNS blocks for the top second level domains by interval.\n",
    "    \"\"\"\n",
    "    path = \"account/analytics/dns-blocks/second-level-domains/topn\"\n",
    "    params = {}\n",
    "    headers = { ACCOUNT_ID_HTTP_HEADER_NAME: account_id }\n",
    "    data = {'interval': interval, 'limit': limit}\n",
    "    if bearer is not None:\n",
    "        data['bearer'] = bearer\n",
    "    return chain(*_api_request(\"POST\", path, params, headers, tenant_id=None, json=data))\n",
    "\n",
    "\n",
    "def get_dns_blocks_time_series_by_account(account_id:str, num_periods:int, agg_period:str, end_time:datetime=None, \n",
    "                                          bearer:str=None) -> Generator[dict, None, None]:\n",
    "    \"\"\" Docs: https://developer.securemobi.net/reference/getaccountdnsblockstimeseries\n",
    "    Get account DNS blocks by interval.\n",
    "    \"\"\"\n",
    "    path = \"account/analytics/dns-blocks/time-series\"\n",
    "    params = {}\n",
    "    headers = { ACCOUNT_ID_HTTP_HEADER_NAME: account_id }\n",
    "    data = get_date_range(num_periods, agg_period, end_time)\n",
    "    if bearer is not None:\n",
    "        data['bearer'] = bearer\n",
    "    return chain(*_api_request(\"POST\", path, params, headers, tenant_id=None, json=data))\n",
    "\n",
    "\n",
    "def get_device_activity_summary_by_account(account_id:str) -> Generator[dict, None, None]:\n",
    "    \"\"\" Docs: https://developer.securemobi.net/reference/getaccountdeviceactivitysummary\n",
    "    Get count of active devices broken down by periods.\n",
    "    \"\"\"\n",
    "    path = \"account/analytics/device-activity/summary\"\n",
    "    params = {}\n",
    "    headers = { ACCOUNT_ID_HTTP_HEADER_NAME: account_id }\n",
    "    # Summary does not return items or continuation token, so just get the next and only one.\n",
    "    return next(_api_request(\"POST\", path, params, headers, tenant_id=None))\n",
    "\n",
    "\n",
    "def get_devices_data_usage_by_account(account_id:str, num_periods:int, \n",
    "                                      agg_period:str, end_time:datetime=None, \n",
    "                                      bearer:str=None, apn_operator:str=None, limit:int=50) -> Generator[dict, None, None]:\n",
    "    \"\"\" Docs: https://developer.securemobi.net/reference/getdevicesdatausage\n",
    "    Get a breakdown of device usage under an account.\n",
    "    \"\"\"\n",
    "    path = \"account/analytics/data-usage/devices\"\n",
    "    params = {}\n",
    "    headers = { ACCOUNT_ID_HTTP_HEADER_NAME: account_id }\n",
    "    data = get_date_range(num_periods, agg_period, end_time)\n",
    "    data['limit'] = limit\n",
    "    if bearer is not None:\n",
    "        data['bearer'] = bearer\n",
    "    if apn_operator is not None:\n",
    "        data['apn_operator'] = apn_operator\n",
    "    return chain(*_api_request(\"POST\", path, params, headers, tenant_id=None, json=data))\n",
    "\n",
    "\n",
    "def get_device_data_usage_by_account_time_series(account_id:str, num_periods:int, agg_period:str, end_time:datetime=None,\n",
    "                                                 device_id:str=None, phone_number:str=None) -> Generator[dict, None, None]:\n",
    "    \"\"\" Docs: https://developer.securemobi.net/reference/getdevicedatausagetimeseries\n",
    "    Get device data usage with the option to find by Phone Number or Device ID.\n",
    "    \"\"\"\n",
    "    path = \"account/analytics/data-usage/device/time-series\"\n",
    "    params = {}\n",
    "    headers = { ACCOUNT_ID_HTTP_HEADER_NAME: account_id }\n",
    "    data = get_date_range(num_periods, agg_period, end_time)\n",
    "    if device_id and phone_number:\n",
    "        raise IllegalArgumentError(\"You cannot specify both device_id and phone_number\")\n",
    "    if device_id is not None:\n",
    "        data['device_id'] = device_id\n",
    "    if phone_number is not None:\n",
    "        data['phone_number'] = phone_number\n",
    "    # Not a collection so use next\n",
    "    return next(_api_request(\"POST\", path, params, headers, tenant_id=None, json=data, debug=False))\n",
    "\n",
    "\n",
    "def get_device_activity_by_account_time_series(account_id:str, num_periods:int, agg_period:str, end_time:datetime=None) -> Generator[dict, None, None]:\n",
    "    \"\"\" Docs: https://api.securemobi.net/v2/account/analytics/device-activity/time-series\n",
    "    Get count of active devices as a time series\n",
    "    \"\"\"\n",
    "    path = \"account/analytics/device-activity/time-series\"\n",
    "    params = {}\n",
    "    headers = { ACCOUNT_ID_HTTP_HEADER_NAME: account_id }\n",
    "    data = get_date_range(num_periods, agg_period, end_time)\n",
    "    return chain(*_api_request(\"POST\", path, params, headers, tenant_id=None, json=data, debug=False))\n",
    "\n",
    "\n",
    "def get_account_data_usage_time_series(account_id:str, \n",
    "                                       num_periods:int, agg_period:str, end_time:datetime=None, bearer:str=None) -> Generator[dict, None, None]:\n",
    "    \"\"\" Docs: https://developer.securemobi.net/reference/getaccountdatausagetimeseries\n",
    "    Get account data usage by interval.\n",
    "    \"\"\"\n",
    "    path = \"account/analytics/data-usage/time-series\"\n",
    "    params = {}\n",
    "    headers = { ACCOUNT_ID_HTTP_HEADER_NAME: account_id }\n",
    "    data = get_date_range(num_periods, agg_period, end_time)\n",
    "    if bearer is not None:\n",
    "        data['bearer'] = bearer\n",
    "    return chain(*_api_request(\"POST\", path, params, headers, tenant_id=None, json=data))\n",
    "\n",
    "\n",
    "def get_account_device_top_data_usage(account_id:str, date_range:str, start_date:datetime=None, bearer:str=None, limit:int=None) -> Generator[dict, None, None]:\n",
    "    \"\"\" Docs: https://developer.securemobi.net/reference/getdatausagetopdevices\n",
    "    Get data usage for top devices by interval.\n",
    "    \"\"\"\n",
    "    path = \"account/analytics/data-usage/devices/topn\"\n",
    "    params = {}\n",
    "    headers = { ACCOUNT_ID_HTTP_HEADER_NAME: account_id }\n",
    "    data = get_interval_range(date_range, start_date=start_date, bearer=bearer)\n",
    "    if bearer:\n",
    "        if bearer not in BEARERS:\n",
    "            raise IllegalArgumentError(f\"If bearer is specified must one of: [{', '.join(BEARERS)}]\")\n",
    "        data[\"bearer\"] = bearer\n",
    "    if limit:\n",
    "        data['limit'] = limit\n",
    "    return chain(*_api_request(\"POST\", path, params, headers, tenant_id=None, json=data))\n",
    "\n",
    "\n",
    "def get_account_top_slds(account_id:str, date_range:str, start_date:datetime=None, bearer:str=None, limit:int=None) -> Generator[dict, None, None]:\n",
    "    \"\"\" Docs: https://developer.securemobi.net/reference/getinternetusagetopsecondleveldomains\n",
    "    Get internet usage for top second level domains by interval.\n",
    "    \"\"\"\n",
    "    path = \"account/analytics/internet-usage/second-level-domains/topn\"\n",
    "    params = {}\n",
    "    headers = { ACCOUNT_ID_HTTP_HEADER_NAME: account_id }\n",
    "    data = get_interval_range(date_range, start_date=start_date, bearer=bearer)\n",
    "    if bearer:\n",
    "        if bearer not in BEARERS:\n",
    "            raise IllegalArgumentError(f\"If bearer is specified must one of: [{', '.join(BEARERS)}]\")\n",
    "        data[\"bearer\"] = bearer\n",
    "    if limit:\n",
    "        data['limit'] = limit\n",
    "    return chain(*_api_request(\"POST\", path, params, headers, tenant_id=None, json=data))\n",
    "\n",
    "\n",
    "def list_account_devices(account_id:str) -> Generator[dict, None, None]:\n",
    "    \"\"\" Docs: https://developer.securemobi.net/reference/getdevices\n",
    "    List All Devices.\n",
    "    \"\"\"\n",
    "    path = \"account/devices\"\n",
    "    params = {'limit': 150 }\n",
    "    headers = { ACCOUNT_ID_HTTP_HEADER_NAME: account_id }\n",
    "    return chain(*_api_request(\"GET\", path, params, headers, tenant_id=None, debug=False))"
   ]
  },
  {
   "cell_type": "markdown",
   "id": "67b6d518-3b61-4fd1-ad3b-6cff509f1209",
   "metadata": {},
   "source": [
    "## Higher level functions"
   ]
  },
  {
   "cell_type": "code",
   "execution_count": 12,
   "id": "0b62ee70-8060-48ae-83e9-aaa1e93dfae1",
   "metadata": {},
   "outputs": [],
   "source": [
    "def display_account_details(account_id:str=None):\n",
    "    \"\"\" Print selected details of account.\"\"\"\n",
    "    details = get_account_details(account_id)\n",
    "    print(f\"Account: {details['name']} ({details['id']})\\nCreated: {details['created_date']}\")\n",
    "\n",
    "\n",
    "def get_devices_data_usage_by_account_total(account_id:str, num_periods:int, agg_period='day', end_time:datetime=None) -> int:\n",
    "    \"\"\" Sum the interface totals per device and return the device total \"\"\"\n",
    "    return sum([sum([interface['total_bytes'] for interface in device['interfaces']])\n",
    "            for device in \n",
    "                get_devices_data_usage_by_account(account_id, num_periods=num_periods, agg_period=agg_period, end_time=end_time)]\n",
    "              )\n",
    "\n",
    "\n",
    "def get_account_data_usage_time_series_df(account_id:str, num_periods:int, agg_period:str, end_time:datetime=None) -> pd.DataFrame:\n",
    "    \"\"\" Return a dataframe with account time series usage. \"\"\"\n",
    "    df = pd.DataFrame(get_account_data_usage_time_series(account_id, num_periods, agg_period, end_time))\n",
    "    df['account_id'] = account_id\n",
    "    return df\n",
    "\n",
    "\n",
    "def get_account_device_activity_time_series_df(account_id:str, num_periods:int, agg_period:str, end_time:datetime=None) -> pd.DataFrame:\n",
    "    \"\"\" Return a dataframe with account device activity as a time series. \"\"\"\n",
    "    df = pd.DataFrame(get_device_activity_by_account_time_series(account_id, num_periods, agg_period, end_time))\n",
    "    df['account_id'] = account_id\n",
    "    return df\n",
    "\n",
    "\n",
    "def get_account_device_activity_time_series_df(account_id:str, num_periods:int, agg_period:str, end_time:datetime=None) -> pd.DataFrame:\n",
    "    \"\"\" Return a dataframe with account device activity as a time series. \"\"\"\n",
    "    df = pd.DataFrame(get_device_activity_by_account_time_series(account_id, num_periods, agg_period, end_time))\n",
    "    df['account_id'] = account_id\n",
    "    return df\n",
    "\n",
    "\n",
    "def get_account_device_top_data_usage_df(account_id:str, date_range:str, start_date:datetime=None, bearer:str=None, limit:int=None) -> pd.DataFrame:\n",
    "    df = pd.DataFrame(get_account_device_top_data_usage(ACCOUNT_ID, date_range, start_date, bearer, limit))\n",
    "    df['account_id'] = account_id\n",
    "    return df\n"
   ]
  },
  {
   "cell_type": "markdown",
   "id": "cbe7ba8d-6c5d-42d4-91af-c132818a558b",
   "metadata": {},
   "source": [
    "## Display some basic account details"
   ]
  },
  {
   "cell_type": "code",
   "execution_count": 14,
   "id": "58685862-cbcc-4843-b7eb-c9391786c55a",
   "metadata": {},
   "outputs": [
    {
     "name": "stdout",
     "output_type": "stream",
     "text": [
      "Account: Akamai Sample Account  (6bf4add5-a6db-457f-b4af-4f76f3b0dee4)\n",
      "Created: 2022-01-01T08:00:00.0000000Z\n"
     ]
    }
   ],
   "source": [
    "display_account_details(ACCOUNT_ID)"
   ]
  },
  {
   "cell_type": "markdown",
   "id": "26c0bf6b-30e6-4a71-b39b-a5dcb79b3690",
   "metadata": {},
   "source": [
    "## Account Devices\n",
    "\n",
    "Retrieve the list of devices for this account and then read into a Pandas DataFrame, then plot info about the devices."
   ]
  },
  {
   "cell_type": "code",
   "execution_count": 15,
   "id": "1caacbd7-0dd1-47a1-8802-ac547cbc26a9",
   "metadata": {},
   "outputs": [
    {
     "name": "stdout",
     "output_type": "stream",
     "text": [
      "Total Number of Devices for Account 6bf4add5-a6db-457f-b4af-4f76f3b0dee4: 1003\n"
     ]
    }
   ],
   "source": [
    "devices = list(list_account_devices(ACCOUNT_ID))\n",
    "print(f\"Total Number of Devices for Account {ACCOUNT_ID}: {len(devices)}\")"
   ]
  },
  {
   "cell_type": "markdown",
   "id": "0bb0f325-57cd-4f1c-af02-1ea2b5e65eb3",
   "metadata": {},
   "source": [
    "\n",
    "Load the JSON response into a Pandas DataFrame and then display the Device Status aggregates"
   ]
  },
  {
   "cell_type": "code",
   "execution_count": 27,
   "id": "f4c9cb92-a590-47fa-8d27-0e712455a78f",
   "metadata": {},
   "outputs": [
    {
     "data": {
      "text/plain": [
       "never_connected    717\n",
       "disconnected       144\n",
       "connected          142\n",
       "Name: status, dtype: int64"
      ]
     },
     "execution_count": 27,
     "metadata": {},
     "output_type": "execute_result"
    }
   ],
   "source": [
    "# Load the data into a Pandas DataFrame\n",
    "devices_df = pd.read_json(json.dumps(devices))\n",
    "if len(devices_df) > 0:\n",
    "    device_status = devices_df.status.value_counts()\n",
    "else:\n",
    "    device_status = []\n",
    "\n",
    "device_status\n"
   ]
  },
  {
   "cell_type": "markdown",
   "id": "88dd839a-b0d0-44c6-9cd6-69aeac613bf6",
   "metadata": {},
   "source": [
    "## Plot Device Status as Pie chart"
   ]
  },
  {
   "cell_type": "code",
   "execution_count": 28,
   "id": "e8eae3ad-1b1f-4119-b8ff-be090e5c2651",
   "metadata": {},
   "outputs": [
    {
     "data": {
      "image/png": "[encoded data removed]",
      "text/plain": [
       "<Figure size 1296x648 with 1 Axes>"
      ]
     },
     "metadata": {},
     "output_type": "display_data"
    }
   ],
   "source": [
    "if len(device_status) > 0:\n",
    "    fig, ax = plt.subplots(figsize=(18, 9), subplot_kw=dict(aspect=\"equal\"))\n",
    "\n",
    "\n",
    "    wedges, texts = ax.pie(device_status.values, wedgeprops=dict(width=0.5), startangle=-20)\n",
    "\n",
    "    bbox_props = dict(boxstyle=\"square,pad=0.3\", fc=\"w\", ec=\"k\", lw=0.72)\n",
    "    kw = dict(arrowprops=dict(arrowstyle=\"-\"),\n",
    "              bbox=bbox_props, zorder=0, va=\"center\")\n",
    "\n",
    "    for i, p in enumerate(wedges):\n",
    "        ang = (p.theta2 - p.theta1)/2. + p.theta1\n",
    "        y = np.sin(np.deg2rad(ang))\n",
    "        x = np.cos(np.deg2rad(ang))\n",
    "        horizontalalignment = {-1: \"right\", 1: \"left\"}[int(np.sign(x))]\n",
    "        connectionstyle = \"angle,angleA=0,angleB={}\".format(ang)\n",
    "        kw[\"arrowprops\"].update({\"connectionstyle\": connectionstyle})\n",
    "        t = f\"{device_status.index[i]}:{device_status.values[i]}\"\n",
    "        ax.annotate(t, xy=(x, y), xytext=(1.35*np.sign(x), 1.4*y),\n",
    "                    horizontalalignment=horizontalalignment, **kw)\n",
    "\n",
    "    ax.set_title(\"Device Status\")\n",
    "\n",
    "    plt.show()"
   ]
  },
  {
   "cell_type": "markdown",
   "id": "4764a988-e4b8-497d-b96f-7f424b8edd2a",
   "metadata": {},
   "source": [
    "## Use the Account Level time series usage to determine how many bytes were used"
   ]
  },
  {
   "cell_type": "code",
   "execution_count": 18,
   "id": "1f4f2c5f-4a87-4a32-ab10-313638ee05f6",
   "metadata": {},
   "outputs": [
    {
     "name": "stdout",
     "output_type": "stream",
     "text": [
      "Total Number of bytes used for AccountID: 6bf4add5-a6db-457f-b4af-4f76f3b0dee4 for last 21 days: 29132068727 (29.1 GB)\n"
     ]
    }
   ],
   "source": [
    "num_days = 21\n",
    "daily_time_series_df = get_account_data_usage_time_series_df(ACCOUNT_ID, num_periods=num_days, agg_period='day')\n",
    "if len(daily_time_series_df) > 0:\n",
    "    total = sum(daily_time_series_df['total_bytes'])\n",
    "    print(f\"Total Number of bytes used for AccountID: {ACCOUNT_ID} for last {num_days} days: {total} ({ENG_FORMATTER.format_data(total)})\")"
   ]
  },
  {
   "cell_type": "markdown",
   "id": "639d4f9d-e9f7-4de9-a4b3-5a4bebdf4ebe",
   "metadata": {
    "tags": []
   },
   "source": [
    "# List time series usage"
   ]
  },
  {
   "cell_type": "code",
   "execution_count": 19,
   "id": "fa8c8d71-6fed-448c-8a59-26db657a1320",
   "metadata": {},
   "outputs": [
    {
     "name": "stdout",
     "output_type": "stream",
     "text": [
      "{'date': '2022-02-17T00:00:00.000Z', 'upload_bytes': 198299661, 'download_bytes': 1089178705, 'total_bytes': 1287478366}\n",
      "{'date': '2022-02-18T00:00:00.000Z', 'upload_bytes': 199010360, 'download_bytes': 2278008980, 'total_bytes': 2477019340}\n",
      "{'date': '2022-02-19T00:00:00.000Z', 'upload_bytes': 269614230, 'download_bytes': 1186100190, 'total_bytes': 1455714420}\n",
      "{'date': '2022-02-20T00:00:00.000Z', 'upload_bytes': 308330414, 'download_bytes': 306937856, 'total_bytes': 615268270}\n",
      "{'date': '2022-02-21T00:00:00.000Z', 'upload_bytes': 189503015, 'download_bytes': 455801045, 'total_bytes': 645304060}\n",
      "{'date': '2022-02-22T00:00:00.000Z', 'upload_bytes': 348919029, 'download_bytes': 769828007, 'total_bytes': 1118747036}\n",
      "{'date': '2022-02-23T00:00:00.000Z', 'upload_bytes': 465998319, 'download_bytes': 747690552, 'total_bytes': 1213688871}\n"
     ]
    }
   ],
   "source": [
    "usage_rows = get_account_data_usage_time_series(ACCOUNT_ID, 7, 'day')\n",
    "for row in usage_rows:\n",
    "    print(row)"
   ]
  },
  {
   "cell_type": "markdown",
   "id": "911f9330-a65b-49ba-887e-7c31e1dac590",
   "metadata": {},
   "source": [
    "# Plot Byte Usage totals by day\n",
    "## Plot Downloads and Uploads separately"
   ]
  },
  {
   "cell_type": "code",
   "execution_count": 20,
   "id": "788971f0-da60-45cd-a0e8-ae0f718e77bb",
   "metadata": {},
   "outputs": [
    {
     "data": {
      "image/png": "[encoded data removed]",
      "text/plain": [
       "<Figure size 1440x576 with 2 Axes>"
      ]
     },
     "metadata": {
      "needs_background": "light"
     },
     "output_type": "display_data"
    }
   ],
   "source": [
    "if len(daily_time_series_df) > 0:\n",
    "    fig, (ax1, ax2) = plt.subplots(1,2, figsize=(20,8))\n",
    "    width = 0.35\n",
    "\n",
    "    plt.xticks(rotation='vertical') \n",
    "\n",
    "    daily_time_series_df['dt'] = pd.to_datetime(daily_time_series_df.date)\n",
    "    ax1.yaxis.set_major_formatter(EngFormatter(unit='B'))\n",
    "    ax1.xaxis.set_minor_formatter(\n",
    "        mdates.DateFormatter(fmt='%Y-%m-%d'))\n",
    "    ax1.xaxis.set_minor_locator(mdates.DayLocator())\n",
    "    width = 0.85\n",
    "    ax1.bar(daily_time_series_df['dt'], daily_time_series_df.download_bytes, width, label='Download')\n",
    "    ax1.legend(loc='upper left')\n",
    "    ax1.set_title('Downloads')\n",
    "    for label in ax1.get_xticklabels(which='both'):\n",
    "        label.set(rotation=45, horizontalalignment='right')\n",
    "\n",
    "\n",
    "    ax2.bar(daily_time_series_df['dt'], daily_time_series_df['upload_bytes'], color='green', label='Upload')\n",
    "    ax2.yaxis.set_major_formatter(EngFormatter(unit='B'))\n",
    "    ax2.xaxis.set_minor_formatter(\n",
    "        mdates.DateFormatter(fmt='%Y-%m-%d'))\n",
    "    ax2.xaxis.set_minor_locator(mdates.DayLocator())\n",
    "    ax2.set_title('Uploads')\n",
    "    ax2.legend(loc='upper left')\n",
    "    for label in ax2.get_xticklabels(which='both'):\n",
    "        label.set(rotation=45, horizontalalignment='right')\n",
    "\n",
    "    fig.tight_layout()\n",
    "    plt.show()\n",
    "else:\n",
    "    print(\"No Daily usage data available to plot\")\n"
   ]
  },
  {
   "cell_type": "markdown",
   "id": "4bbb1ca2-4985-41d3-8b06-7df1b48bbea4",
   "metadata": {},
   "source": [
    "## Plot Usage totals stacking uploads on downloads"
   ]
  },
  {
   "cell_type": "code",
   "execution_count": 21,
   "id": "57a564e7-ded8-4cbd-9f8c-4d148b874c56",
   "metadata": {},
   "outputs": [
    {
     "data": {
      "image/png": "[encoded data removed]",
      "text/plain": [
       "<Figure size 1440x576 with 1 Axes>"
      ]
     },
     "metadata": {
      "needs_background": "light"
     },
     "output_type": "display_data"
    }
   ],
   "source": [
    "if len(daily_time_series_df) > 0:\n",
    "    fig, ax = plt.subplots(figsize=(20,8))\n",
    "    width = 0.45\n",
    "    upload_color = 'tab:orange'\n",
    "    download_color = 'tab:blue'\n",
    "\n",
    "    p1 = ax.bar(daily_time_series_df['dt'], daily_time_series_df.download_bytes, width, label='Download', color=download_color)\n",
    "    p2 = ax.bar(daily_time_series_df['dt'], daily_time_series_df.upload_bytes, width,\n",
    "                bottom=daily_time_series_df.download_bytes, label='Upload', color=upload_color)\n",
    "\n",
    "    ax.xaxis.set_minor_formatter(mdates.DateFormatter(fmt='%Y-%m-%d'))\n",
    "    ax.xaxis.set_minor_locator(mdates.DayLocator())\n",
    "\n",
    "    ax.yaxis.set_major_formatter(EngFormatter(unit='B'))\n",
    "    ax.axhline(0, color='grey', linewidth=0.8)\n",
    "    ax.set_ylabel('Total Bytes')\n",
    "    ax.set_title('Usage totals by day')\n",
    "    ax.legend(loc='upper left')\n",
    "\n",
    "    labels = [EngFormatter(unit='B', places=1).format_eng(p1.datavalues[i] + p2.datavalues[i]) for i in range(len(daily_time_series_df))]\n",
    "    ax.bar_label(p2, labels=labels)\n",
    "\n",
    "\n",
    "    for label in ax.get_xticklabels(which='both'):\n",
    "        label.set(rotation=45, horizontalalignment='right')\n",
    "\n",
    "\n",
    "    plt.show()\n",
    "else:\n",
    "    print(\"No Daily usage data available to plot\")\n"
   ]
  },
  {
   "cell_type": "markdown",
   "id": "b037d255-2535-495e-a02c-61ae61eb005c",
   "metadata": {},
   "source": [
    "## Plot account download and upload side-by-side"
   ]
  },
  {
   "cell_type": "code",
   "execution_count": 22,
   "id": "c0bb2cef-580e-49ff-accd-1b24897ceef3",
   "metadata": {},
   "outputs": [
    {
     "data": {
      "image/png": "[encoded data removed]",
      "text/plain": [
       "<Figure size 1440x576 with 1 Axes>"
      ]
     },
     "metadata": {
      "needs_background": "light"
     },
     "output_type": "display_data"
    }
   ],
   "source": [
    "if len(daily_time_series_df) > 0:\n",
    "    width = 0.3  # the width of the bars\n",
    "\n",
    "    fig, ax = plt.subplots(figsize=(20,8))\n",
    "    ax.yaxis.grid()\n",
    "\n",
    "    x= np.arange(len(daily_time_series_df))\n",
    "\n",
    "    p1 = ax.bar(daily_time_series_df['dt'], daily_time_series_df.download_bytes, width=-width, align='edge', label='Download')\n",
    "    p2 = ax.bar(daily_time_series_df['dt'], daily_time_series_df.upload_bytes, width=width, align='edge', label='Upload')\n",
    "\n",
    "    ax.xaxis.set_minor_formatter(mdates.DateFormatter(fmt='%Y-%m-%d'))\n",
    "    ax.xaxis.set_minor_locator(mdates.DayLocator())\n",
    "\n",
    "    ax.yaxis.set_major_formatter(EngFormatter(unit='B'))\n",
    "\n",
    "\n",
    "    ax.set_ylabel('Bytes')\n",
    "    ax.set_title('Uploads and Downloads')\n",
    "    ax.legend()\n",
    "\n",
    "\n",
    "    for label in ax.get_xticklabels(which='both'):\n",
    "        label.set(rotation=45, horizontalalignment='right')\n",
    "\n",
    "\n",
    "    fig.tight_layout()\n",
    "\n",
    "    plt.show()\n",
    "else:\n",
    "    print(\"No Daily usage data available to plot\")\n"
   ]
  },
  {
   "cell_type": "markdown",
   "id": "178a810c-58ba-43ba-b02f-12d5145e115d",
   "metadata": {},
   "source": [
    "## Plot Daily usage for the account as horizontal bar chart"
   ]
  },
  {
   "cell_type": "code",
   "execution_count": 23,
   "id": "df1b68d0-c8ca-401f-b2f2-5c3bd7fd4e41",
   "metadata": {},
   "outputs": [
    {
     "data": {
      "image/png": "[encoded data removed]",
      "text/plain": [
       "<Figure size 432x288 with 1 Axes>"
      ]
     },
     "metadata": {
      "needs_background": "light"
     },
     "output_type": "display_data"
    }
   ],
   "source": [
    "if len(daily_time_series_df) > 0:\n",
    "    fig, ax = plt.subplots()\n",
    "    width = 0.35\n",
    "\n",
    "    usage_df = daily_time_series_df.copy()\n",
    "    usage_df['dayofweek'] = pd.to_datetime(usage_df['date']).dt.weekday\n",
    "    usage_df['day_name'] = pd.to_datetime(usage_df['date']).dt.day_name()\n",
    "\n",
    "\n",
    "    udf = usage_df.groupby(by='day_name').agg({'upload_bytes':sum, 'download_bytes':sum, 'total_bytes':sum, 'dayofweek': 'first' }).sort_values(by='dayofweek')\n",
    "    udf['num_of_days'] = len(usage_df)\n",
    "\n",
    "\n",
    "\n",
    "    labels = ('Mon', 'Tue', 'Wed', 'Thu', 'Fri', 'Sat', 'Sun')\n",
    "    y_pos = np.arange(len(labels))\n",
    "    # num_of_days = df.iloc[0]['num_of_days']\n",
    "    num_of_days = len(daily_time_series_df)\n",
    "\n",
    "    ax.barh(y_pos, udf['total_bytes'], align='center', height=0.6)\n",
    "    ax.set_yticks(y_pos)\n",
    "    ax.set_yticklabels(labels)\n",
    "    ax.invert_yaxis()  # labels read top-to-bottom\n",
    "    formatter = EngFormatter(unit='B')\n",
    "    ax.xaxis.set_major_formatter(formatter)\n",
    "    ax.set_xlabel('Total Bytes')\n",
    "    ax.set_title(f'Sum of Daily Data Usage over {num_of_days} days')\n",
    "    plt.show()\n",
    "else:\n",
    "    print(\"No Daily usage data available to plot\")\n",
    "\n",
    "\n"
   ]
  },
  {
   "cell_type": "markdown",
   "id": "4d6cbc40-1c41-4775-a404-f2f29c14a183",
   "metadata": {},
   "source": [
    "# Active devices by day\n",
    "\n",
    "Query the device activity time series and plot as a bar chart"
   ]
  },
  {
   "cell_type": "code",
   "execution_count": 24,
   "id": "c97d4a01-3f38-49df-8a46-97266132f7cf",
   "metadata": {},
   "outputs": [],
   "source": [
    "device_activity_df = get_account_device_activity_time_series_df(ACCOUNT_ID, num_periods=31, agg_period='day')\n",
    "if len(device_activity_df) > 0:\n",
    "    device_activity_df['dt'] = pd.to_datetime(device_activity_df.date)\n",
    "    device_activity_df.drop(columns=\"date\", inplace=True)"
   ]
  },
  {
   "cell_type": "code",
   "execution_count": 25,
   "id": "ca588dec-075f-4cfb-930b-b472fd25cea2",
   "metadata": {},
   "outputs": [
    {
     "data": {
      "image/png": "[encoded data removed]",
      "text/plain": [
       "<Figure size 1440x576 with 1 Axes>"
      ]
     },
     "metadata": {
      "needs_background": "light"
     },
     "output_type": "display_data"
    }
   ],
   "source": [
    "if len(device_activity_df):\n",
    "    fig, ax = plt.subplots(figsize=(20,8))\n",
    "    ax.yaxis.grid()\n",
    "    width = 0.45\n",
    "    bar_color = 'tab:green'\n",
    "\n",
    "    ax.bar(device_activity_df['dt'], device_activity_df.total_active_devices, width, label='Active', color=bar_color)\n",
    "\n",
    "    ax.xaxis.set_minor_formatter(mdates.DateFormatter(fmt='%Y-%m-%d'))\n",
    "    ax.xaxis.set_minor_locator(mdates.DayLocator())\n",
    "\n",
    "    # ax.yaxis.set_major_formatter(EngFormatter(unit='B'))\n",
    "    ax.axhline(0, color='grey', linewidth=0.8)\n",
    "    ax.set_ylabel('# Devices')\n",
    "    ax.set_title('Active devices by day')\n",
    "\n",
    "    for label in ax.get_xticklabels(which='both'):\n",
    "        label.set(rotation=45, horizontalalignment='right')\n",
    "\n",
    "\n",
    "    plt.show()\n",
    "else:\n",
    "    print(\"No Device Activity data available to plot\")\n",
    "    "
   ]
  },
  {
   "cell_type": "code",
   "execution_count": null,
   "id": "7fb81821-6633-4479-abdb-27f5bae8945d",
   "metadata": {},
   "outputs": [],
   "source": []
  }
 ],
 "metadata": {
  "kernelspec": {
   "display_name": "Python 3 (ipykernel)",
   "language": "python",
   "name": "python3"
  },
  "language_info": {
   "codemirror_mode": {
    "name": "ipython",
    "version": 3
   },
   "file_extension": ".py",
   "mimetype": "text/x-python",
   "name": "python",
   "nbconvert_exporter": "python",
   "pygments_lexer": "ipython3",
   "version": "3.9.5"
  }
 },
 "nbformat": 4,
 "nbformat_minor": 5
}
