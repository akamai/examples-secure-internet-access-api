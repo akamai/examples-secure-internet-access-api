{
 "cells": [
  {
   "cell_type": "markdown",
   "id": "76e2c3ed-f53d-4bf8-b294-af3470cbeb16",
   "metadata": {
    "tags": []
   },
   "source": [
    "# Akamai SIA Analytics API Client\n",
    "\n",
    "## Overview\n",
    "\n",
    "In this [Jupyter](https://jupyter.org/) notebook we provide examples using the [Secure Mobi Analytics API's](https://developer.securemobi.net/reference/introduction) to generate reports\n",
    "for:\n",
    "- Device Activity summary for an account\n",
    "- Device Usage for an account\n",
    "- Device Status\n",
    "\n",
    "We use [Pandas](https://pandas.pydata.org/), [NumPy](https://numpy.org/) and [Matplotlib](https://matplotlib.org/) Python modules to manipulate and visualize the data returned by the API's.\n",
    "\n",
    "## Pre-requisites\n",
    "\n",
    "To access the API's you will need to obtain API credentials for your account, follow the [Quick Start](https://developer.securemobi.net/docs/quick-start) instructions to obtain\n",
    "API_SECRET and API_KEY for your account. You should **NEVER** hardcode these into your code - use environment variables, vault or a cloud based secrets manager.\n",
    "\n",
    "In this notebook you are prompted to enter the API key and secret if you have not defined the following variables:\n",
    "- SECURE_MOBI_API_KEY\n",
    "- SECURE_MOBI_API_SECRET\n",
    "\n",
    "### Dependencies\n",
    "- Python >= 3.8\n",
    "- [Requests](https://docs.python-requests.org/) - HTTP requests\n",
    "- [pandas](https://pandas.pydata.org/) and [NumPy](https://numpy.org/)\n",
    "- [matplotlib](https://pypi.org/project/matplotlib/) - graphing library\n",
    "- [openpyxl](https://pypi.org/project/openpyxl/) - to generate Excel spreadsheets"
   ]
  },
  {
   "cell_type": "code",
   "execution_count": 1,
   "id": "3ca5062d-c0ee-44b1-8a6e-016503948e00",
   "metadata": {
    "tags": []
   },
   "outputs": [
    {
     "name": "stdout",
     "output_type": "stream",
     "text": [
      "Requirement already satisfied: pandas in ./lib/python3.9/site-packages (1.4.2)\n",
      "Requirement already satisfied: matplotlib in ./lib/python3.9/site-packages (3.4.3)\n",
      "Requirement already satisfied: requests in ./lib/python3.9/site-packages (2.28.1)\n",
      "Requirement already satisfied: openpyxl in ./lib/python3.9/site-packages (3.0.9)\n",
      "Requirement already satisfied: pytz>=2020.1 in ./lib/python3.9/site-packages (from pandas) (2022.2.1)\n",
      "Requirement already satisfied: numpy>=1.18.5 in ./lib/python3.9/site-packages (from pandas) (1.22.3)\n",
      "Requirement already satisfied: python-dateutil>=2.8.1 in ./lib/python3.9/site-packages (from pandas) (2.8.2)\n",
      "Requirement already satisfied: cycler>=0.10 in ./lib/python3.9/site-packages (from matplotlib) (0.10.0)\n",
      "Requirement already satisfied: pillow>=6.2.0 in ./lib/python3.9/site-packages (from matplotlib) (8.3.1)\n",
      "Requirement already satisfied: pyparsing>=2.2.1 in ./lib/python3.9/site-packages (from matplotlib) (3.0.9)\n",
      "Requirement already satisfied: kiwisolver>=1.0.1 in ./lib/python3.9/site-packages (from matplotlib) (1.3.2)\n",
      "Requirement already satisfied: certifi>=2017.4.17 in ./lib/python3.9/site-packages (from requests) (2022.6.15)\n",
      "Requirement already satisfied: urllib3<1.27,>=1.21.1 in ./lib/python3.9/site-packages (from requests) (1.26.12)\n",
      "Requirement already satisfied: charset-normalizer<3,>=2 in ./lib/python3.9/site-packages (from requests) (2.1.1)\n",
      "Requirement already satisfied: idna<4,>=2.5 in ./lib/python3.9/site-packages (from requests) (3.3)\n",
      "Requirement already satisfied: et-xmlfile in ./lib/python3.9/site-packages (from openpyxl) (1.1.0)\n",
      "Requirement already satisfied: six in ./lib/python3.9/site-packages (from cycler>=0.10->matplotlib) (1.16.0)\n"
     ]
    }
   ],
   "source": [
    "import sys\n",
    "!{sys.executable} -m pip install pandas matplotlib requests openpyxl"
   ]
  },
  {
   "cell_type": "code",
   "execution_count": 2,
   "id": "8c41909c-195d-4c80-ae97-ee51ee82b7e0",
   "metadata": {},
   "outputs": [],
   "source": [
    "from typing import Dict, Tuple, Union, List, Any, Generator\n",
    "from datetime import datetime, timedelta, timezone\n",
    "from collections import Counter\n",
    "import json\n",
    "import os\n",
    "from itertools import chain\n",
    "import pandas as pd\n",
    "import numpy as np\n",
    "import base64\n",
    "import time\n",
    "import pprint\n",
    "import logging\n",
    "import getpass\n",
    "from dateutil.relativedelta import relativedelta\n"
   ]
  },
  {
   "cell_type": "markdown",
   "id": "e3f70149-6a67-439d-8f2a-fa082f04150d",
   "metadata": {},
   "source": [
    "# matplotlib\n",
    "\n",
    "Import [matplotlib](https://matplotlib.org/devdocs/index.html) and set for inline display of charts"
   ]
  },
  {
   "cell_type": "code",
   "execution_count": 3,
   "id": "2e72d8fc-5f0a-40cb-9121-bff0a680a647",
   "metadata": {},
   "outputs": [],
   "source": [
    "%matplotlib inline\n",
    "import matplotlib.pyplot as plt\n",
    "from matplotlib.ticker import EngFormatter\n",
    "import matplotlib.dates as mdates\n"
   ]
  },
  {
   "cell_type": "markdown",
   "id": "73d33a9d-a974-455c-8fcd-c88d59f80340",
   "metadata": {},
   "source": [
    "## Python requests library\n",
    "Using Python `requests` library to access the API"
   ]
  },
  {
   "cell_type": "code",
   "execution_count": 4,
   "id": "c09f8a7b-485f-48c2-8711-189f08eb5180",
   "metadata": {},
   "outputs": [],
   "source": [
    "import requests\n",
    "from requests.auth import AuthBase\n",
    "from requests.adapters import HTTPAdapter\n",
    "from requests.packages.urllib3.util.retry import Retry\n",
    "\n",
    "from concurrent.futures import ThreadPoolExecutor\n"
   ]
  },
  {
   "cell_type": "markdown",
   "id": "6b3b9ee6-1ecd-49df-83c5-bfadbcec90d3",
   "metadata": {
    "tags": []
   },
   "source": [
    "### HTTP Requests settings\n",
    "\n",
    "Create a HTTP _Session_ object and attach an adapter to manage retries.\n",
    "\n",
    "To avoid being throttled (HTTP 429) we set a sensible backoff retry strategy for requests. Backoff exponentially starting with 1 second"
   ]
  },
  {
   "cell_type": "code",
   "execution_count": 5,
   "id": "6b4b2429-6dd2-42eb-ac59-cb7b03c91cbf",
   "metadata": {},
   "outputs": [],
   "source": [
    "retry_strategy = Retry(\n",
    "    total=3,\n",
    "    backoff_factor = 2,\n",
    "    status_forcelist=[429],\n",
    "    allowed_methods=[\"HEAD\", \"GET\", \"OPTIONS\", \"POST\"]\n",
    ")\n",
    "adapter = HTTPAdapter(max_retries=retry_strategy)\n",
    "http = requests.Session()\n",
    "http.mount(\"https://\", adapter)\n",
    "http.mount(\"http://\", adapter)\n"
   ]
  },
  {
   "cell_type": "markdown",
   "id": "d4b95ccb-a3c1-4af1-9169-028ae1fec2b9",
   "metadata": {},
   "source": [
    "## Logging configuration\n",
    "\n",
    "Set the log level for the root logger, specify urllib3 log level separately as we don't want to see the detailed urllib3 HTTP logging."
   ]
  },
  {
   "cell_type": "code",
   "execution_count": 6,
   "id": "9babf864-d25a-42af-a6b3-0481193aa111",
   "metadata": {},
   "outputs": [],
   "source": [
    "from http.client import HTTPConnection\n",
    "HTTPConnection.debuglevel = 0\n",
    "\n",
    "logging.basicConfig() # you need to initialize logging, otherwise you will not see anything from requests\n",
    "logger = logging.getLogger() # Root logger\n",
    "logger.setLevel(logging.INFO)\n",
    "requests_log = logging.getLogger(\"urllib3\")\n",
    "requests_log.setLevel(logging.INFO)\n",
    "requests_log.propagate = True"
   ]
  },
  {
   "cell_type": "markdown",
   "id": "635c45d3-90a5-4fff-a890-e048ab192e17",
   "metadata": {},
   "source": [
    "## Configuration Details\n",
    "\n",
    "Set the API endpoint URL and configure API credentials.\n",
    "\n",
    "For credentials we try environment variables first, otherwise fallback to prompting."
   ]
  },
  {
   "cell_type": "code",
   "execution_count": 7,
   "id": "984a0e0d-0fea-4482-83a3-357131926ee6",
   "metadata": {},
   "outputs": [
    {
     "name": "stdin",
     "output_type": "stream",
     "text": [
      "Enter API Key ····································\n",
      "Enter API Secret ············································\n"
     ]
    }
   ],
   "source": [
    "URL = \"https://api.securemobi.net/v2\"\n",
    "\n",
    "ACCOUNT_ID = None # ID defaults to the account associated with the account level credentials\n",
    "\n",
    "API_KEY = os.getenv('SECURE_MOBI_API_KEY')\n",
    "API_SECRET = os.getenv('SECURE_MOBI_API_SECRET')\n",
    "\n",
    "if API_KEY is None:\n",
    "    API_KEY = getpass.getpass('Enter API Key')\n",
    "    API_SECRET = getpass.getpass('Enter API Secret')\n",
    "    "
   ]
  },
  {
   "cell_type": "markdown",
   "id": "63316d46-29d0-4b8a-ad1c-6cea9f546b3f",
   "metadata": {},
   "source": [
    "# Authentication\n",
    "\n",
    "The API uses OAuth2 to grant a bearer token. Tokens are issued with a limited lifetime, the code belows fetches, caches and manages the token expiry time.\n",
    "The Bearer token is fetched using a custom authenticator.\n",
    "\n",
    "## Custom authenticator\n",
    "\n",
    "The AkamaiAuth class below implements the `requests` `AuthBase` class to manage the API Bearer Token, refreshing the token when required.\n",
    "Attach the authenticator class to http session.\n",
    "\n",
    "**NOTE**: Python Requests does have an OAuth2 helper - but for illustration purposes we provide our own custom authenticator."
   ]
  },
  {
   "cell_type": "code",
   "execution_count": 8,
   "id": "200fac8f-a824-4a90-b0dc-14a389a3b1fb",
   "metadata": {},
   "outputs": [],
   "source": [
    "class AkamaiAuth(AuthBase):\n",
    "    \"\"\"Attaches Authentication to the given Request object.\"\"\"\n",
    "    def __init__(self, username, password) -> None:\n",
    "        self.basic_auth = basic_auth = base64.b64encode(f\"{username}:{password}\".encode('ASCII')).decode('ASCII')\n",
    "        self.last_auth = None\n",
    "        self.token_expires = 0\n",
    "\n",
    "    def __call__(self, r) -> str :\n",
    "        # check first to see if we already have a bearer token and that it has not expired\n",
    "        epoch_now = datetime.now(timezone.utc).timestamp()\n",
    "        if self.last_auth is None or (epoch_now + 60) >= self.token_expires: # Add 60 seconds margin\n",
    "            # Get a new bearer token\n",
    "            headers = { \"Accept\":\"application/json\", \"Content-Type\":\"application/x-www-form-urlencoded\", \"Authorization\": f\"Basic {self.basic_auth}\"}\n",
    "            payload = { \"grant_type\": \"client_credentials\"}\n",
    "            resp = requests.post(f\"{URL}/oauth2/token\", data=payload, headers=headers)\n",
    "            if resp.status_code != 200:\n",
    "                raise Exception(f\"Authentication error getting bearer token: {resp.status_code}:{resp.reason}\")\n",
    "            self.last_auth = resp.json()\n",
    "            self.token_expires = epoch_now + self.last_auth['expires_in']\n",
    "        r.headers['Authorization'] = f'Bearer {self.last_auth[\"access_token\"]}'\n",
    "        return r\n",
    "    \n",
    "# Bind the token to our http Session\n",
    "http.auth = AkamaiAuth(API_KEY, API_SECRET)"
   ]
  },
  {
   "cell_type": "code",
   "execution_count": 1,
   "id": "79c26c41-928f-47b7-aee7-695fbb5fd0ee",
   "metadata": {},
   "outputs": [],
   "source": [
    "ACCOUNT_ID_HTTP_HEADER_NAME = \"X-Account-Id\""
   ]
  },
  {
   "cell_type": "markdown",
   "id": "098f9f7c-1669-49eb-a007-07295709644f",
   "metadata": {},
   "source": [
    "# API methods\n",
    "The section below provides a set of methods to access the API's\n",
    "\n",
    "## Util methods\n",
    "\n",
    "Common functions utilized by API functions"
   ]
  },
  {
   "cell_type": "code",
   "execution_count": 10,
   "id": "811493a8-5663-4f65-b602-82f3c99b36e9",
   "metadata": {},
   "outputs": [],
   "source": [
    "class IllegalArgumentError(ValueError):\n",
    "    pass\n",
    "\n",
    "def _api_request(method:str, path:str, params:dict, headers:dict, tenant_id:str, json=None, debug=False) -> Generator[dict, None, None]:\n",
    "    \"\"\" Generic API request usings the http session with the OAuth Authentication bound. API returns two types of responses\n",
    "    Collections containing top level keys items and continuation_token or simple responses as JSON array.\n",
    "    \n",
    "    Returns: A generator as the collections can be paged.\"\"\"\n",
    "    \n",
    "    method = method.upper()\n",
    "    if method not in (\"GET\", \"POST\"):\n",
    "        raise NotImplementedError(f\"HTTP method {method} not supported\")\n",
    "    if tenant_id is not None:\n",
    "        headers['X-Asavie-Tenant-Id'] = tenant_id\n",
    "\n",
    "    more_data = True\n",
    "    while more_data:\n",
    "        resp = http.request(method, f\"{URL}/{path}\", headers=headers, params=params, json=json)\n",
    "        if resp.status_code != 200:\n",
    "            raise Exception(f\"API Request Error: {resp.status_code} / {resp.reason} {resp.text}\")\n",
    "        if debug:\n",
    "            print(resp.text)\n",
    "        data = resp.json()\n",
    "        continuation_token = data.get('continuation_token', None)\n",
    "        \n",
    "        # Responses are either collections (have items and continuation tokens) or non collections\n",
    "        if 'items' not in data.keys():\n",
    "            yield data\n",
    "            return # Not a collection so generator is complete\n",
    "        \n",
    "        items = data.get('items', [])\n",
    "        if len(items) == 0:\n",
    "            return\n",
    "        if not continuation_token:\n",
    "            more_data = False\n",
    "        else:\n",
    "            params['continuation_token'] = continuation_token\n",
    "        yield items\n",
    "\n",
    "        \n",
    "def yesterday_utc() -> datetime:\n",
    "    \"\"\" Return yesterday datetime with time parts set to zero, i.e. midnight yesterday\"\"\"\n",
    "    now = datetime.now(timezone.utc)\n",
    "    # zero the time portion \n",
    "    return (now.replace(hour=0,minute=0,second=0,microsecond=0) - timedelta(days=1))\n",
    "    \n",
    "        \n",
    "def start_of_day_utc() -> datetime:\n",
    "    \"\"\" Return datetime for start of today. \"\"\"\n",
    "    now = datetime.now(timezone.utc)\n",
    "    # zero the time portion, even though backend does this. \n",
    "    return now.replace(hour=0,minute=0,second=0,microsecond=0)\n",
    "    \n",
    "        \n",
    "def get_date_range(num_periods:int, agg_period:str, end_time:datetime) -> Dict[str,str]:\n",
    "    \"\"\" Construct and return a dictionary with the date range object. \"\"\"\n",
    "    if end_time is None:\n",
    "        # default to yesterday if the end_time is not specified\n",
    "        end_time = yesterday_utc()\n",
    "    else:\n",
    "        end_time = end_time.replace(hour=0,minute=0,second=0,microsecond=0).astimezone(timezone.utc)\n",
    "        if (end_time > yesterday_utc()):\n",
    "            raise Exception(\"End time cannot be today or in the future\")\n",
    "    if agg_period == \"day\": # Note that to_date is inclusive\n",
    "        delta = timedelta(days=num_periods - 1)\n",
    "    elif agg_period == \"week\":\n",
    "        delta = timedelta(weeks=num_periods)\n",
    "    elif agg_period == \"month\":\n",
    "        delta = relativedelta(months=num_periods)\n",
    "    else:\n",
    "        raise IllegalArgumentError(f\"Aggregate period {agg_period} not valid\")\n",
    "        \n",
    "    start_time = end_time - delta\n",
    "    return {\n",
    "        \"from_date\": start_time.isoformat(),\n",
    "        \"to_date\": end_time.isoformat(),\n",
    "        \"aggregated_by\": agg_period\n",
    "    }\n",
    "\n",
    "ENG_FORMATTER = EngFormatter(unit='B', places=1)\n",
    "\n",
    "\n",
    "DATE_RANGES = (\n",
    "    \"last_3_days\",\n",
    "    \"last_7_days\",\n",
    "    \"last_30_days\",\n",
    "    \"current_quote_cycle_month\",\n",
    "    \"day\",\n",
    "    \"month\"\n",
    ")\n",
    "\n",
    "BEARERS = (\n",
    "    \"ethernet/wifi\",\n",
    "    \"cellular\"\n",
    ")\n",
    "    \n",
    "    \n",
    "def get_interval_range(date_range:str, start_date:datetime=None) -> Dict:\n",
    "    if date_range not in DATE_RANGES:\n",
    "        raise IllegalArgumentError(f\"Invalid Date range: {date_range}\")\n",
    "    if date_range in (\"day\", \"month\") and start_date is None:\n",
    "        raise IllegalArgumentError(\"start date must be specified when range is month or day\")\n",
    "    body = { \"interval\": date_range }\n",
    "    if start_date:\n",
    "        body[\"date\"] = start_date\n",
    "    return body\n",
    "        \n",
    "                    "
   ]
  },
  {
   "cell_type": "markdown",
   "id": "02169279-289f-4c61-b69b-d29fdfcff8aa",
   "metadata": {},
   "source": [
    "## Account Level methods"
   ]
  },
  {
   "cell_type": "code",
   "execution_count": 11,
   "id": "b8bd108a-446a-4fa3-9de2-ecd459e0b077",
   "metadata": {},
   "outputs": [],
   "source": [
    "def get_account_details(account_id:str=None) -> Generator[dict, None, None]:\n",
    "    \"\"\" Docs: https://developer.securemobi.net/reference/getaccount-1\n",
    "    Retrieve the Account details and return a Dict.\n",
    "    \n",
    "    Note if you are using Account level credentials the account ID defaults to\n",
    "    the API_KEY account.\n",
    "    \"\"\"\n",
    "    path = \"account\"\n",
    "    params = {}\n",
    "    headers = {}\n",
    "    if account_id is not None:\n",
    "        headers[ACCOUNT_ID_HTTP_HEADER_NAME] = account_id\n",
    "    return next(_api_request(\"GET\", path, params, headers, tenant_id=None, debug=False))    \n",
    "\n",
    "\n",
    "def get_device_activity_by_account_time_series(account_id:str, num_periods:int, agg_period:str, end_time:datetime=None) -> Generator[dict, None, None]:\n",
    "    \"\"\" Docs: https://api.securemobi.net/v2/account/analytics/device-activity/time-series\n",
    "    Get count of active devices as a time series\n",
    "    \"\"\"\n",
    "    path = \"account/analytics/device-activity/time-series\"\n",
    "    params = {}\n",
    "    headers = {}\n",
    "    if account_id is not None:\n",
    "        headers[ACCOUNT_ID_HTTP_HEADER_NAME] = account_id\n",
    "    data = get_date_range(num_periods, agg_period, end_time)\n",
    "    return chain(*_api_request(\"POST\", path, params, headers, tenant_id=None, json=data, debug=False))\n",
    "\n",
    "\n",
    "def get_account_data_usage_time_series(account_id:str, \n",
    "                                       num_periods:int, agg_period:str, end_time:datetime=None, bearer:str=None) -> Generator[dict, None, None]:\n",
    "    \"\"\" Docs: https://developer.securemobi.net/reference/getaccountdatausagetimeseries\n",
    "    Get account data usage by interval.\n",
    "    \"\"\"\n",
    "    path = \"account/analytics/data-usage/time-series\"\n",
    "    params = {}\n",
    "    headers = {}\n",
    "    if account_id is not None:\n",
    "        headers[ACCOUNT_ID_HTTP_HEADER_NAME] = account_id\n",
    "    data = get_date_range(num_periods, agg_period, end_time)\n",
    "    if bearer is not None:\n",
    "        data['bearer'] = bearer\n",
    "    return chain(*_api_request(\"POST\", path, params, headers, tenant_id=None, json=data))\n",
    "\n"
   ]
  },
  {
   "cell_type": "markdown",
   "id": "67b6d518-3b61-4fd1-ad3b-6cff509f1209",
   "metadata": {},
   "source": [
    "## Higher level functions"
   ]
  },
  {
   "cell_type": "code",
   "execution_count": 12,
   "id": "0b62ee70-8060-48ae-83e9-aaa1e93dfae1",
   "metadata": {},
   "outputs": [],
   "source": [
    "def display_account_details(account_id:str=None):\n",
    "    \"\"\" Print selected details of account.\"\"\"\n",
    "    details = get_account_details(account_id)\n",
    "    print(f\"Account: {details['name']} ({details['id']})\\nCreated: {details['created_date']}\")\n",
    "\n",
    "\n",
    "def get_account_data_usage_time_series_df(account_id:str, num_periods:int, agg_period:str, end_time:datetime=None) -> pd.DataFrame:\n",
    "    \"\"\" Return a dataframe with account time series usage. \"\"\"\n",
    "    df = pd.DataFrame(get_account_data_usage_time_series(account_id, num_periods, agg_period, end_time))\n",
    "    df['account_id'] = account_id\n",
    "    return df\n",
    "\n",
    "\n",
    "def get_account_device_activity_time_series_df(account_id:str, num_periods:int, agg_period:str, end_time:datetime=None) -> pd.DataFrame:\n",
    "    \"\"\" Return a dataframe with account device activity as a time series. \"\"\"\n",
    "    df = pd.DataFrame(get_device_activity_by_account_time_series(account_id, num_periods, agg_period, end_time))\n",
    "    df['account_id'] = account_id\n",
    "    return df\n",
    "\n"
   ]
  },
  {
   "cell_type": "markdown",
   "id": "cbe7ba8d-6c5d-42d4-91af-c132818a558b",
   "metadata": {},
   "source": [
    "## Display some basic account details"
   ]
  },
  {
   "cell_type": "code",
   "execution_count": 14,
   "id": "58685862-cbcc-4843-b7eb-c9391786c55a",
   "metadata": {},
   "outputs": [
    {
     "name": "stdout",
     "output_type": "stream",
     "text": [
      "Account: Akamai Sample Account  (6bf4add5-a6db-457f-b4af-4f76f3b0dee4)\n",
      "Created: 2022-01-01T08:00:00.0000000Z\n"
     ]
    }
   ],
   "source": [
    "display_account_details()"
   ]
  },
  {
   "cell_type": "markdown",
   "id": "4764a988-e4b8-497d-b96f-7f424b8edd2a",
   "metadata": {},
   "source": [
    "## Use the Account Level time series usage to determine how many bytes were used"
   ]
  },
  {
   "cell_type": "code",
   "execution_count": 18,
   "id": "1f4f2c5f-4a87-4a32-ab10-313638ee05f6",
   "metadata": {},
   "outputs": [
    {
     "name": "stdout",
     "output_type": "stream",
     "text": [
      "Total Number of bytes used for account for last 21 days: 29132068727 (29.1 GB)\n"
     ]
    }
   ],
   "source": [
    "num_days = 21\n",
    "daily_time_series_df = get_account_data_usage_time_series_df(ACCOUNT_ID, num_periods=num_days, agg_period='day')\n",
    "if len(daily_time_series_df) > 0:\n",
    "    daily_time_series_df['dt'] = pd.to_datetime(daily_time_series_df.date)\n",
    "    total = sum(daily_time_series_df['total_bytes'])\n",
    "    print(f\"Total Number of bytes used for account for last {num_days} days: {total} ({ENG_FORMATTER.format_data(total)})\")"
   ]
  },
  {
   "cell_type": "markdown",
   "id": "b037d255-2535-495e-a02c-61ae61eb005c",
   "metadata": {
    "tags": []
   },
   "source": [
    "# Plot account download and upload usage totala"
   ]
  },
  {
   "cell_type": "code",
   "execution_count": 22,
   "id": "c0bb2cef-580e-49ff-accd-1b24897ceef3",
   "metadata": {},
   "outputs": [
    {
     "data": {
      "image/png": "[encoded data removed]",
      "text/plain": [
       "<Figure size 1440x576 with 1 Axes>"
      ]
     },
     "metadata": {
      "needs_background": "light"
     },
     "output_type": "display_data"
    }
   ],
   "source": [
    "if len(daily_time_series_df) > 0:\n",
    "    width = 0.3  # the width of the bars\n",
    "\n",
    "    fig, ax = plt.subplots(figsize=(20,8))\n",
    "    ax.yaxis.grid()\n",
    "\n",
    "    x= np.arange(len(daily_time_series_df))\n",
    "\n",
    "    p1 = ax.bar(daily_time_series_df['dt'], daily_time_series_df.download_bytes, width=-width, align='edge', label='Download')\n",
    "    p2 = ax.bar(daily_time_series_df['dt'], daily_time_series_df.upload_bytes, width=width, align='edge', label='Upload')\n",
    "\n",
    "    ax.xaxis.set_minor_formatter(mdates.DateFormatter(fmt='%Y-%m-%d'))\n",
    "    ax.xaxis.set_minor_locator(mdates.DayLocator())\n",
    "\n",
    "    ax.yaxis.set_major_formatter(EngFormatter(unit='B'))\n",
    "\n",
    "\n",
    "    ax.set_ylabel('Bytes')\n",
    "    ax.set_title('Uploads and Downloads')\n",
    "    ax.legend()\n",
    "\n",
    "\n",
    "    for label in ax.get_xticklabels(which='both'):\n",
    "        label.set(rotation=45, horizontalalignment='right')\n",
    "\n",
    "\n",
    "    fig.tight_layout()\n",
    "\n",
    "    plt.show()\n",
    "else:\n",
    "    print(\"No Daily usage data available to plot\")\n"
   ]
  },
  {
   "cell_type": "markdown",
   "id": "4d6cbc40-1c41-4775-a404-f2f29c14a183",
   "metadata": {},
   "source": [
    "# Active devices by day\n",
    "\n",
    "Query the device activity time series and plot as a bar chart"
   ]
  },
  {
   "cell_type": "code",
   "execution_count": null,
   "id": "c97d4a01-3f38-49df-8a46-97266132f7cf",
   "metadata": {},
   "outputs": [],
   "source": [
    "device_activity_df = get_account_device_activity_time_series_df(ACCOUNT_ID, num_periods=31, agg_period='day')\n",
    "if len(device_activity_df) > 0:\n",
    "    device_activity_df['dt'] = pd.to_datetime(device_activity_df.date)\n",
    "    device_activity_df.drop(columns=\"date\", inplace=True)"
   ]
  },
  {
   "cell_type": "code",
   "execution_count": null,
   "id": "ca588dec-075f-4cfb-930b-b472fd25cea2",
   "metadata": {},
   "outputs": [
    {
     "data": {
      "image/png": "[encoded data removed]",
      "text/plain": [
       "<Figure size 1440x576 with 1 Axes>"
      ]
     },
     "metadata": {
      "needs_background": "light"
     },
     "output_type": "display_data"
    }
   ],
   "source": [
    "if len(device_activity_df):\n",
    "    fig, ax = plt.subplots(figsize=(20,8))\n",
    "    ax.yaxis.grid()\n",
    "    width = 0.45\n",
    "    bar_color = 'tab:green'\n",
    "\n",
    "    ax.bar(device_activity_df['dt'], device_activity_df.total_active_devices, width, label='Active', color=bar_color)\n",
    "\n",
    "    ax.xaxis.set_minor_formatter(mdates.DateFormatter(fmt='%Y-%m-%d'))\n",
    "    ax.xaxis.set_minor_locator(mdates.DayLocator())\n",
    "\n",
    "    # ax.yaxis.set_major_formatter(EngFormatter(unit='B'))\n",
    "    ax.axhline(0, color='grey', linewidth=0.8)\n",
    "    ax.set_ylabel('# Devices')\n",
    "    ax.set_title('Active devices by day')\n",
    "\n",
    "    for label in ax.get_xticklabels(which='both'):\n",
    "        label.set(rotation=45, horizontalalignment='right')\n",
    "\n",
    "\n",
    "    plt.show()\n",
    "else:\n",
    "    print(\"No Device Activity data available to plot\")\n",
    "    "
   ]
  }
 ],
 "metadata": {
  "kernelspec": {
   "display_name": "Python 3 (ipykernel)",
   "language": "python",
   "name": "python3"
  },
  "language_info": {
   "codemirror_mode": {
    "name": "ipython",
    "version": 3
   },
   "file_extension": ".py",
   "mimetype": "text/x-python",
   "name": "python",
   "nbconvert_exporter": "python",
   "pygments_lexer": "ipython3",
   "version": "3.9.5"
  }
 },
 "nbformat": 4,
 "nbformat_minor": 5
}
